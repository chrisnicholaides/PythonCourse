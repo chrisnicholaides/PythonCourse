{
 "cells": [
  {
   "cell_type": "code",
   "execution_count": 1,
   "id": "d9dfdbe8-73fa-4bf3-8d04-9022859d59d2",
   "metadata": {},
   "outputs": [],
   "source": [
    "import pandas as pd\n",
    "import numpy as np"
   ]
  },
  {
   "cell_type": "markdown",
   "id": "c38631d4-9216-4205-8e3e-fdbf9b1996f6",
   "metadata": {},
   "source": [
    "## exercise 10"
   ]
  },
  {
   "cell_type": "code",
   "execution_count": 4,
   "id": "1cd614e1-9bdf-4674-8a9a-42a488e1f3ec",
   "metadata": {},
   "outputs": [
    {
     "name": "stdout",
     "output_type": "stream",
     "text": [
      "hello, world\n"
     ]
    }
   ],
   "source": [
    "print(\"hello, world\")"
   ]
  },
  {
   "cell_type": "code",
   "execution_count": 13,
   "id": "6a4db171-0134-4368-b9a0-8c468c350b8d",
   "metadata": {},
   "outputs": [
    {
     "name": "stdout",
     "output_type": "stream",
     "text": [
      "Steve is 45 years old\n"
     ]
    }
   ],
   "source": [
    "username = \"Steve\"\n",
    "age = \"45\"\n",
    "print (username, 'is', age,'years old')"
   ]
  },
  {
   "cell_type": "code",
   "execution_count": 15,
   "id": "e951ce0f-7073-4b2d-aed2-bfcd1852eaf4",
   "metadata": {},
   "outputs": [
    {
     "name": "stdin",
     "output_type": "stream",
     "text": [
      "enter your name Steve\n",
      "Please enter your age 45\n"
     ]
    },
    {
     "name": "stdout",
     "output_type": "stream",
     "text": [
      "Steve is 45 years old\n"
     ]
    }
   ],
   "source": [
    "username = input('enter your name')\n",
    "age = input('Please enter your age')\n",
    "print(username,'is',age,'years old')"
   ]
  },
  {
   "cell_type": "code",
   "execution_count": 19,
   "id": "a295a0d2-e4be-4d0c-bd67-88e63d84c263",
   "metadata": {},
   "outputs": [
    {
     "name": "stdout",
     "output_type": "stream",
     "text": [
      "8\n"
     ]
    }
   ],
   "source": [
    "children = 6\n",
    "crayons = 50\n",
    "crayonsperchild = crayons // children\n",
    "print (crayonsperchild)"
   ]
  },
  {
   "cell_type": "code",
   "execution_count": 24,
   "id": "a96b64ca-0029-4dd9-8fac-90cd48ed4612",
   "metadata": {},
   "outputs": [
    {
     "name": "stdin",
     "output_type": "stream",
     "text": [
      "enter length 50\n",
      "enter width 10\n"
     ]
    },
    {
     "name": "stdout",
     "output_type": "stream",
     "text": [
      "perimeter is 500\n"
     ]
    }
   ],
   "source": [
    "length = int(input('enter length'))\n",
    "width = int(input('enter width'))\n",
    "perimeter = length*width\n",
    "print ('perimeter is', perimeter)"
   ]
  },
  {
   "cell_type": "code",
   "execution_count": null,
   "id": "a9295b1c-977b-4b51-bf92-8fe793766acd",
   "metadata": {},
   "outputs": [],
   "source": []
  }
 ],
 "metadata": {
  "kernelspec": {
   "display_name": "Python 3 (ipykernel)",
   "language": "python",
   "name": "python3"
  },
  "language_info": {
   "codemirror_mode": {
    "name": "ipython",
    "version": 3
   },
   "file_extension": ".py",
   "mimetype": "text/x-python",
   "name": "python",
   "nbconvert_exporter": "python",
   "pygments_lexer": "ipython3",
   "version": "3.11.9"
  }
 },
 "nbformat": 4,
 "nbformat_minor": 5
}
