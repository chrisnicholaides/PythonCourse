{
 "cells": [
  {
   "cell_type": "markdown",
   "id": "65bf0272-db6f-44e4-993b-964ef4defb92",
   "metadata": {},
   "source": [
    "## Numpy"
   ]
  },
  {
   "cell_type": "code",
   "execution_count": 1,
   "id": "89d014ac-b619-48b0-88bb-c07e88a425e0",
   "metadata": {},
   "outputs": [],
   "source": [
    "import numpy as np"
   ]
  },
  {
   "cell_type": "code",
   "execution_count": 2,
   "id": "daef2283-0596-496d-bab6-01224d457a29",
   "metadata": {},
   "outputs": [],
   "source": [
    "payments_list = [6.99, 12.40, 75, 1.55]"
   ]
  },
  {
   "cell_type": "code",
   "execution_count": 3,
   "id": "0d613b2d-d0c8-48f3-986e-bdc4e732c843",
   "metadata": {},
   "outputs": [],
   "source": [
    "payments = np.array(payments_list)"
   ]
  },
  {
   "cell_type": "code",
   "execution_count": 4,
   "id": "9f9feb04-05b6-4556-9a5a-de8cf626a44e",
   "metadata": {},
   "outputs": [
    {
     "name": "stdout",
     "output_type": "stream",
     "text": [
      "[ 6.99 12.4  75.    1.55]\n"
     ]
    }
   ],
   "source": [
    "print(payments)"
   ]
  },
  {
   "cell_type": "code",
   "execution_count": 5,
   "id": "c716eb11-2e15-4eab-b3f2-d44a5d50eab0",
   "metadata": {},
   "outputs": [
    {
     "data": {
      "text/plain": [
       "array([ 6.99, 12.4 , 75.  ,  1.55])"
      ]
     },
     "execution_count": 5,
     "metadata": {},
     "output_type": "execute_result"
    }
   ],
   "source": [
    "payments"
   ]
  },
  {
   "cell_type": "code",
   "execution_count": 6,
   "id": "7a939601-e0d4-4003-aa85-7e6ac15b5e75",
   "metadata": {},
   "outputs": [
    {
     "data": {
      "text/plain": [
       "numpy.ndarray"
      ]
     },
     "execution_count": 6,
     "metadata": {},
     "output_type": "execute_result"
    }
   ],
   "source": [
    "type(payments)"
   ]
  },
  {
   "cell_type": "code",
   "execution_count": 7,
   "id": "e0a6933d-b2de-4fbb-a649-0e3ae2cdee13",
   "metadata": {},
   "outputs": [],
   "source": [
    "smiley = np.array([\n",
    "    [0,0,1,1,1,1,1,1,0,0],\n",
    "    [0,1,0,0,0,0,0,0,1,0],\n",
    "    [1,0,1,0,0,0,0,1,0,1],\n",
    "    [1,0,0,0,0,0,0,0,0,1],\n",
    "    [1,0,1,0,0,0,0,1,0,1],\n",
    "    [1,0,0,0,0,0,0,0,0,1],\n",
    "    [1,0,0,1,1,1,1,0,0,1],\n",
    "    [1,0,0,0,0,0,0,0,0,1],\n",
    "    [0,1,0,0,0,0,0,0,1,0],\n",
    "    [0,0,1,1,1,1,1,1,0,0]\n",
    "])"
   ]
  },
  {
   "cell_type": "code",
   "execution_count": 8,
   "id": "dff1debf-3d01-40a1-b5be-15e39cd5666b",
   "metadata": {},
   "outputs": [
    {
     "data": {
      "text/plain": [
       "array([[0, 0, 1, 1, 1, 1, 1, 1, 0, 0],\n",
       "       [0, 1, 0, 0, 0, 0, 0, 0, 1, 0],\n",
       "       [1, 0, 1, 0, 0, 0, 0, 1, 0, 1],\n",
       "       [1, 0, 0, 0, 0, 0, 0, 0, 0, 1],\n",
       "       [1, 0, 1, 0, 0, 0, 0, 1, 0, 1],\n",
       "       [1, 0, 0, 0, 0, 0, 0, 0, 0, 1],\n",
       "       [1, 0, 0, 1, 1, 1, 1, 0, 0, 1],\n",
       "       [1, 0, 0, 0, 0, 0, 0, 0, 0, 1],\n",
       "       [0, 1, 0, 0, 0, 0, 0, 0, 1, 0],\n",
       "       [0, 0, 1, 1, 1, 1, 1, 1, 0, 0]])"
      ]
     },
     "execution_count": 8,
     "metadata": {},
     "output_type": "execute_result"
    }
   ],
   "source": [
    "smiley"
   ]
  },
  {
   "cell_type": "code",
   "execution_count": 9,
   "id": "1e28ba21-0a8d-4325-9c5f-d3c303c16131",
   "metadata": {},
   "outputs": [],
   "source": [
    "import matplotlib.pyplot as plt"
   ]
  },
  {
   "cell_type": "code",
   "execution_count": 10,
   "id": "5bece4c2-869d-4187-944c-50e374388296",
   "metadata": {},
   "outputs": [
    {
     "data": {
      "text/plain": [
       "(np.float64(-0.5), np.float64(9.5), np.float64(9.5), np.float64(-0.5))"
      ]
     },
     "execution_count": 10,
     "metadata": {},
     "output_type": "execute_result"
    },
    {
     "data": {
      "image/png": "[encoded data removed]",
      "text/plain": [
       "<Figure size 640x480 with 1 Axes>"
      ]
     },
     "metadata": {},
     "output_type": "display_data"
    }
   ],
   "source": [
    "plt.imshow(smiley, cmap='gray')\n",
    "plt.axis('off')"
   ]
  },
  {
   "cell_type": "code",
   "execution_count": 11,
   "id": "6c340e4e-7b59-4219-b6ca-6ed52f961730",
   "metadata": {},
   "outputs": [
    {
     "data": {
      "text/plain": [
       "(10, 10)"
      ]
     },
     "execution_count": 11,
     "metadata": {},
     "output_type": "execute_result"
    }
   ],
   "source": [
    "smiley.shape"
   ]
  },
  {
   "cell_type": "code",
   "execution_count": 12,
   "id": "8db2bb67-a3cc-4289-907f-8cfda08f6538",
   "metadata": {},
   "outputs": [
    {
     "data": {
      "text/plain": [
       "100"
      ]
     },
     "execution_count": 12,
     "metadata": {},
     "output_type": "execute_result"
    }
   ],
   "source": [
    "smiley.size"
   ]
  },
  {
   "cell_type": "code",
   "execution_count": 13,
   "id": "32ff8ced-ac70-43e2-a509-ce05663e0dd9",
   "metadata": {},
   "outputs": [
    {
     "data": {
      "text/plain": [
       "2"
      ]
     },
     "execution_count": 13,
     "metadata": {},
     "output_type": "execute_result"
    }
   ],
   "source": [
    "smiley.ndim"
   ]
  },
  {
   "cell_type": "code",
   "execution_count": 14,
   "id": "c056c1f3-d8d7-4e24-b38d-c41be67c6e5b",
   "metadata": {},
   "outputs": [
    {
     "data": {
      "text/plain": [
       "dtype('int64')"
      ]
     },
     "execution_count": 14,
     "metadata": {},
     "output_type": "execute_result"
    }
   ],
   "source": [
    "smiley.dtype"
   ]
  },
  {
   "cell_type": "markdown",
   "id": "d96a1661-72be-4e4e-8288-c2e600b94fba",
   "metadata": {},
   "source": [
    "## manipulation"
   ]
  },
  {
   "cell_type": "code",
   "execution_count": 15,
   "id": "f26a7ca5-5dd4-4b43-b209-894211b9afa9",
   "metadata": {},
   "outputs": [
    {
     "data": {
      "text/plain": [
       "array([ 13.98,  24.8 , 150.  ,   3.1 ])"
      ]
     },
     "execution_count": 15,
     "metadata": {},
     "output_type": "execute_result"
    }
   ],
   "source": [
    "payments * 2"
   ]
  },
  {
   "cell_type": "code",
   "execution_count": 16,
   "id": "bc9a360f-f005-4ef0-a10a-4f36f01b59e9",
   "metadata": {},
   "outputs": [
    {
     "data": {
      "text/plain": [
       "array([ 5.592,  9.92 , 60.   ,  1.24 ])"
      ]
     },
     "execution_count": 16,
     "metadata": {},
     "output_type": "execute_result"
    }
   ],
   "source": [
    "payments - (payments * 0.2)"
   ]
  },
  {
   "cell_type": "markdown",
   "id": "79433810-df55-44e7-a386-aae75d9c1e92",
   "metadata": {},
   "source": [
    "## slicing"
   ]
  },
  {
   "cell_type": "code",
   "execution_count": 17,
   "id": "fd32a476-bbf4-418e-b0cb-e3b13fb8806b",
   "metadata": {},
   "outputs": [
    {
     "data": {
      "text/plain": [
       "np.float64(6.99)"
      ]
     },
     "execution_count": 17,
     "metadata": {},
     "output_type": "execute_result"
    }
   ],
   "source": [
    "payments[0]"
   ]
  },
  {
   "cell_type": "code",
   "execution_count": 18,
   "id": "7713d92b-374a-4928-ad20-f4ea8464cf78",
   "metadata": {},
   "outputs": [
    {
     "data": {
      "text/plain": [
       "np.float64(1.55)"
      ]
     },
     "execution_count": 18,
     "metadata": {},
     "output_type": "execute_result"
    }
   ],
   "source": [
    "payments[-1]"
   ]
  },
  {
   "cell_type": "code",
   "execution_count": 19,
   "id": "97f94302-986e-4b81-9b3f-68dc2c3ac890",
   "metadata": {},
   "outputs": [
    {
     "data": {
      "text/plain": [
       "array([ 6.99, 12.4 , 75.  ])"
      ]
     },
     "execution_count": 19,
     "metadata": {},
     "output_type": "execute_result"
    }
   ],
   "source": [
    "payments[0:3]"
   ]
  },
  {
   "cell_type": "code",
   "execution_count": 25,
   "id": "fee978a5-a7ae-4548-8916-51dcd4f4a439",
   "metadata": {},
   "outputs": [
    {
     "data": {
      "text/plain": [
       "array([ 6.99, 75.  ])"
      ]
     },
     "execution_count": 25,
     "metadata": {},
     "output_type": "execute_result"
    }
   ],
   "source": [
    "payments[[0,2]]"
   ]
  },
  {
   "cell_type": "code",
   "execution_count": 26,
   "id": "8cb34d39-1f2c-4b06-b25d-9fc254a40194",
   "metadata": {},
   "outputs": [
    {
     "data": {
      "text/plain": [
       "array([[0, 0, 1, 1, 1, 1, 1, 1, 0, 0],\n",
       "       [0, 1, 0, 0, 0, 0, 0, 0, 1, 0],\n",
       "       [1, 0, 1, 0, 0, 0, 0, 1, 0, 1],\n",
       "       [1, 0, 0, 0, 0, 0, 0, 0, 0, 1],\n",
       "       [1, 0, 1, 0, 0, 0, 0, 1, 0, 1],\n",
       "       [1, 0, 0, 0, 0, 0, 0, 0, 0, 1],\n",
       "       [1, 0, 0, 1, 1, 1, 1, 0, 0, 1],\n",
       "       [1, 0, 0, 0, 0, 0, 0, 0, 0, 1],\n",
       "       [0, 1, 0, 0, 0, 0, 0, 0, 1, 0],\n",
       "       [0, 0, 1, 1, 1, 1, 1, 1, 0, 0]])"
      ]
     },
     "execution_count": 26,
     "metadata": {},
     "output_type": "execute_result"
    }
   ],
   "source": [
    "smiley"
   ]
  },
  {
   "cell_type": "code",
   "execution_count": 27,
   "id": "ee01dd78-5256-4205-af25-7765a1fb7440",
   "metadata": {},
   "outputs": [
    {
     "data": {
      "text/plain": [
       "array([0, 0, 1, 1, 1, 1, 1, 1, 0, 0])"
      ]
     },
     "execution_count": 27,
     "metadata": {},
     "output_type": "execute_result"
    }
   ],
   "source": [
    "smiley[0]"
   ]
  },
  {
   "cell_type": "code",
   "execution_count": 28,
   "id": "afdfb0c4-7c95-4e78-8385-7909cee7ed93",
   "metadata": {},
   "outputs": [
    {
     "data": {
      "text/plain": [
       "np.int64(0)"
      ]
     },
     "execution_count": 28,
     "metadata": {},
     "output_type": "execute_result"
    }
   ],
   "source": [
    "smiley[0,0]"
   ]
  },
  {
   "cell_type": "code",
   "execution_count": 30,
   "id": "aad228a8-8a1b-483a-a4fa-91715d3cc739",
   "metadata": {},
   "outputs": [
    {
     "data": {
      "text/plain": [
       "np.int64(1)"
      ]
     },
     "execution_count": 30,
     "metadata": {},
     "output_type": "execute_result"
    }
   ],
   "source": [
    "smiley[2,0]"
   ]
  },
  {
   "cell_type": "code",
   "execution_count": 31,
   "id": "206e74a5-0baa-48ac-b4b8-bb24c0f86f83",
   "metadata": {},
   "outputs": [
    {
     "data": {
      "text/plain": [
       "array([1, 0])"
      ]
     },
     "execution_count": 31,
     "metadata": {},
     "output_type": "execute_result"
    }
   ],
   "source": [
    "smiley[:2,2]"
   ]
  },
  {
   "cell_type": "code",
   "execution_count": 32,
   "id": "de013794-eb02-40b5-8627-d50042d997b5",
   "metadata": {},
   "outputs": [
    {
     "data": {
      "text/plain": [
       "np.True_"
      ]
     },
     "execution_count": 32,
     "metadata": {},
     "output_type": "execute_result"
    }
   ],
   "source": [
    "np.all(payments >1)"
   ]
  },
  {
   "cell_type": "code",
   "execution_count": 33,
   "id": "709c2601-0b88-466f-b0ff-d55cf086d302",
   "metadata": {},
   "outputs": [
    {
     "data": {
      "text/plain": [
       "np.True_"
      ]
     },
     "execution_count": 33,
     "metadata": {},
     "output_type": "execute_result"
    }
   ],
   "source": [
    "np.any(payments <2)"
   ]
  },
  {
   "cell_type": "markdown",
   "id": "4f11d25c-2c42-4ee7-a25d-8a48cf6c9d1c",
   "metadata": {},
   "source": [
    "## exercise 12"
   ]
  },
  {
   "cell_type": "code",
   "execution_count": 34,
   "id": "2df5569e-a737-4f55-96d6-fb15ce3f2d4f",
   "metadata": {},
   "outputs": [
    {
     "data": {
      "text/plain": [
       "array([0, 1, 2, 3, 4, 5, 6, 7, 8, 9])"
      ]
     },
     "execution_count": 34,
     "metadata": {},
     "output_type": "execute_result"
    }
   ],
   "source": [
    "x = np.arange(10)\n",
    "x"
   ]
  },
  {
   "cell_type": "code",
   "execution_count": 36,
   "id": "faed1439-a89c-4682-aba0-9872868a83c1",
   "metadata": {},
   "outputs": [
    {
     "data": {
      "text/plain": [
       "array([0, 1, 2, 3, 4])"
      ]
     },
     "execution_count": 36,
     "metadata": {},
     "output_type": "execute_result"
    }
   ],
   "source": [
    "x[:5]"
   ]
  },
  {
   "cell_type": "code",
   "execution_count": 37,
   "id": "c49e4dde-4ba3-4281-9b1f-d194eaf5a4c2",
   "metadata": {},
   "outputs": [
    {
     "data": {
      "text/plain": [
       "array([0, 2, 4, 6, 8])"
      ]
     },
     "execution_count": 37,
     "metadata": {},
     "output_type": "execute_result"
    }
   ],
   "source": [
    "x[::2]"
   ]
  },
  {
   "cell_type": "code",
   "execution_count": 41,
   "id": "373eaccd-025c-40a1-8c7f-64935879373c",
   "metadata": {},
   "outputs": [
    {
     "data": {
      "text/plain": [
       "array([9, 8, 7, 6])"
      ]
     },
     "execution_count": 41,
     "metadata": {},
     "output_type": "execute_result"
    }
   ],
   "source": [
    "x[:5:-1]"
   ]
  },
  {
   "cell_type": "code",
   "execution_count": 42,
   "id": "32e360c7-40a7-4357-8999-b1922d05d3c2",
   "metadata": {},
   "outputs": [],
   "source": [
    "y = np.array([[12,5,2,5],\n",
    "              [7,6,8,8],\n",
    "              [1,6,7,7]])"
   ]
  },
  {
   "cell_type": "code",
   "execution_count": 47,
   "id": "953b5010-3c43-4383-97f1-e8e3f46cc014",
   "metadata": {},
   "outputs": [
    {
     "data": {
      "text/plain": [
       "array([[12,  5,  2],\n",
       "       [ 7,  6,  8]])"
      ]
     },
     "execution_count": 47,
     "metadata": {},
     "output_type": "execute_result"
    }
   ],
   "source": [
    "y[:2, :3]"
   ]
  },
  {
   "cell_type": "code",
   "execution_count": 50,
   "id": "023864ab-443f-4be4-af0e-850d39162ae8",
   "metadata": {},
   "outputs": [
    {
     "data": {
      "text/plain": [
       "array([[12],\n",
       "       [ 7],\n",
       "       [ 1]])"
      ]
     },
     "execution_count": 50,
     "metadata": {},
     "output_type": "execute_result"
    }
   ],
   "source": [
    "y[:,:1]"
   ]
  },
  {
   "cell_type": "code",
   "execution_count": 51,
   "id": "37636fbf-5160-481c-a40b-839621ca754a",
   "metadata": {},
   "outputs": [
    {
     "data": {
      "text/plain": [
       "array([[12,  5,  2,  5]])"
      ]
     },
     "execution_count": 51,
     "metadata": {},
     "output_type": "execute_result"
    }
   ],
   "source": [
    "y[:1]"
   ]
  },
  {
   "cell_type": "code",
   "execution_count": 53,
   "id": "3448e482-0cec-4164-8843-14a096ef9392",
   "metadata": {},
   "outputs": [],
   "source": [
    "data = np.genfromtxt('data/cdc_1.csv', delimiter=',', skip_header=1)"
   ]
  },
  {
   "cell_type": "code",
   "execution_count": 54,
   "id": "0204a917-2ade-4790-9a83-7571af81de4f",
   "metadata": {},
   "outputs": [
    {
     "data": {
      "text/plain": [
       "array([[ 70., 175.,  77.],\n",
       "       [ 71., 194.,  31.],\n",
       "       [ 67., 170.,  45.],\n",
       "       ...,\n",
       "       [ 69., 224.,  73.],\n",
       "       [ 73., 200.,  35.],\n",
       "       [ 69., 170.,  83.]])"
      ]
     },
     "execution_count": 54,
     "metadata": {},
     "output_type": "execute_result"
    }
   ],
   "source": [
    "data"
   ]
  },
  {
   "cell_type": "code",
   "execution_count": 55,
   "id": "3de31324-a92e-449f-9681-7538c7a3715f",
   "metadata": {},
   "outputs": [],
   "source": [
    "weight = data[:,0]\n",
    "height = data[:,1]\n",
    "age = data[:,2]"
   ]
  },
  {
   "cell_type": "code",
   "execution_count": 58,
   "id": "5a03b428-17a7-4812-8a97-ecdc0cafa1a9",
   "metadata": {},
   "outputs": [
    {
     "name": "stdout",
     "output_type": "stream",
     "text": [
      "AGE min 18.0 max 94.0 mean 44.273069286236804\n",
      "WEIGHT min 49.0 max 93.0 mean 70.25164594001463\n",
      "HEIGHT min 78.0 max 500.0 mean 189.32270874699552\n"
     ]
    }
   ],
   "source": [
    "print(\"AGE\", \"min\", np.min(age), \"max\", np.max(age), \"mean\", np.mean(age))\n",
    "print(\"WEIGHT\", \"min\", np.min(weight), \"max\", np.max(weight), \"mean\", np.mean(weight))\n",
    "print(\"HEIGHT\", \"min\", np.min(height), \"max\", np.max(height), \"mean\", np.mean(height))"
   ]
  },
  {
   "cell_type": "code",
   "execution_count": null,
   "id": "8aca1321-01a5-4f0b-a7a0-3785877292b7",
   "metadata": {},
   "outputs": [],
   "source": []
  }
 ],
 "metadata": {
  "kernelspec": {
   "display_name": "Python 3 (ipykernel)",
   "language": "python",
   "name": "python3"
  },
  "language_info": {
   "codemirror_mode": {
    "name": "ipython",
    "version": 3
   },
   "file_extension": ".py",
   "mimetype": "text/x-python",
   "name": "python",
   "nbconvert_exporter": "python",
   "pygments_lexer": "ipython3",
   "version": "3.11.9"
  }
 },
 "nbformat": 4,
 "nbformat_minor": 5
}
