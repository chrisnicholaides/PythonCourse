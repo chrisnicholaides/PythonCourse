{
 "cells": [
  {
   "cell_type": "code",
   "execution_count": 1,
   "id": "3c90dd40-9e89-4a1d-bfc5-cda293385613",
   "metadata": {},
   "outputs": [],
   "source": [
    "def calculate_change(total, cash_given):\n",
    "    total_pence = int(round(total * 100))\n",
    "    cash_given_pence = int(round(cash_given * 100))\n",
    "    \n",
    "    if cash_given_pence < total_pence:\n",
    "        return \"Not enough cash given.\"\n",
    "\n",
    "    change = cash_given_pence - total_pence\n",
    "    denominations = {\n",
    "        \"£50\": 5000,\n",
    "        \"£20\": 2000,\n",
    "        \"£10\": 1000,\n",
    "        \"£5\": 500,\n",
    "        \"£2\": 200,\n",
    "        \"£1\": 100,\n",
    "        \"50p\": 50,\n",
    "        \"20p\": 20,\n",
    "        \"10p\": 10,\n",
    "        \"5p\": 5,\n",
    "        \"2p\": 2,\n",
    "        \"1p\": 1\n",
    "    }\n",
    "\n",
    "    result = {}\n",
    "    for name, value in denominations.items():\n",
    "        count, change = divmod(change, value)\n",
    "        if count:\n",
    "            result[name] = count\n",
    "\n",
    "    return result"
   ]
  },
  {
   "cell_type": "code",
   "execution_count": 5,
   "id": "f9b0ec09-c19a-4464-906b-d246478d9023",
   "metadata": {},
   "outputs": [
    {
     "name": "stdout",
     "output_type": "stream",
     "text": [
      "{'£2': 1, '£1': 1, '10p': 1, '1p': 1}\n"
     ]
    }
   ],
   "source": [
    "print (calculate_change(46.89,50))"
   ]
  },
  {
   "cell_type": "code",
   "execution_count": null,
   "id": "fb064b7c-4dc6-4574-88de-f3874783a358",
   "metadata": {},
   "outputs": [],
   "source": []
  }
 ],
 "metadata": {
  "kernelspec": {
   "display_name": "Python 3 (ipykernel)",
   "language": "python",
   "name": "python3"
  },
  "language_info": {
   "codemirror_mode": {
    "name": "ipython",
    "version": 3
   },
   "file_extension": ".py",
   "mimetype": "text/x-python",
   "name": "python",
   "nbconvert_exporter": "python",
   "pygments_lexer": "ipython3",
   "version": "3.11.9"
  }
 },
 "nbformat": 4,
 "nbformat_minor": 5
}
