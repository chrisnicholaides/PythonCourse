{
 "cells": [
  {
   "cell_type": "code",
   "execution_count": 1,
   "id": "9aeb814a-5807-4e78-9c06-9ddd7ff03345",
   "metadata": {},
   "outputs": [],
   "source": [
    "ages = [12,18,33,84,45,67,12,82,95,16,10,23,43,29,40,34,30,16,44,69,70,74,38,65,36,83,50,11,79,64,78,37,3,8,68,22,4,60,33,82,45,23,5,18,28,99,17,81,14,88,50,19,59,7,44,93,35,72,25,63,11,69,11,76,10,60,30,14,21,82,47,6,21,88,46,78,92,48,36,28,51] "
   ]
  },
  {
   "cell_type": "code",
   "execution_count": 3,
   "id": "9b639c6a-f798-4ecc-b9e2-b823bfe2ba3c",
   "metadata": {},
   "outputs": [
    {
     "data": {
      "text/plain": [
       "81"
      ]
     },
     "execution_count": 3,
     "metadata": {},
     "output_type": "execute_result"
    }
   ],
   "source": [
    "len(ages)"
   ]
  },
  {
   "cell_type": "code",
   "execution_count": 4,
   "id": "a95e3a20-fb4e-4793-8e6e-235b19035f61",
   "metadata": {},
   "outputs": [
    {
     "data": {
      "text/plain": [
       "12"
      ]
     },
     "execution_count": 4,
     "metadata": {},
     "output_type": "execute_result"
    }
   ],
   "source": [
    "ages[0]"
   ]
  },
  {
   "cell_type": "code",
   "execution_count": 5,
   "id": "e29c3ce9-dc25-4588-b932-afe3f490697e",
   "metadata": {},
   "outputs": [
    {
     "data": {
      "text/plain": [
       "51"
      ]
     },
     "execution_count": 5,
     "metadata": {},
     "output_type": "execute_result"
    }
   ],
   "source": [
    "ages[-1]"
   ]
  },
  {
   "cell_type": "code",
   "execution_count": 6,
   "id": "3153e6a7-8551-4b03-b13a-6bee4e138d46",
   "metadata": {},
   "outputs": [
    {
     "data": {
      "text/plain": [
       "[33,\n",
       " 84,\n",
       " 45,\n",
       " 67,\n",
       " 12,\n",
       " 82,\n",
       " 95,\n",
       " 16,\n",
       " 10,\n",
       " 23,\n",
       " 43,\n",
       " 29,\n",
       " 40,\n",
       " 34,\n",
       " 30,\n",
       " 16,\n",
       " 44,\n",
       " 69,\n",
       " 70,\n",
       " 74,\n",
       " 38,\n",
       " 65,\n",
       " 36,\n",
       " 83,\n",
       " 50,\n",
       " 11,\n",
       " 79,\n",
       " 64,\n",
       " 78,\n",
       " 37,\n",
       " 3,\n",
       " 8,\n",
       " 68,\n",
       " 22,\n",
       " 4,\n",
       " 60,\n",
       " 33,\n",
       " 82,\n",
       " 45,\n",
       " 23,\n",
       " 5,\n",
       " 18,\n",
       " 28,\n",
       " 99,\n",
       " 17,\n",
       " 81,\n",
       " 14,\n",
       " 88,\n",
       " 50,\n",
       " 19,\n",
       " 59,\n",
       " 7,\n",
       " 44,\n",
       " 93,\n",
       " 35,\n",
       " 72,\n",
       " 25,\n",
       " 63,\n",
       " 11,\n",
       " 69,\n",
       " 11,\n",
       " 76,\n",
       " 10,\n",
       " 60,\n",
       " 30,\n",
       " 14,\n",
       " 21,\n",
       " 82,\n",
       " 47,\n",
       " 6,\n",
       " 21,\n",
       " 88,\n",
       " 46,\n",
       " 78,\n",
       " 92,\n",
       " 48,\n",
       " 36,\n",
       " 28,\n",
       " 51]"
      ]
     },
     "execution_count": 6,
     "metadata": {},
     "output_type": "execute_result"
    }
   ],
   "source": [
    "ages[2:]"
   ]
  },
  {
   "cell_type": "code",
   "execution_count": 11,
   "id": "1e81ac21-3fa8-48cc-9030-4897bbb8855c",
   "metadata": {},
   "outputs": [
    {
     "data": {
      "text/plain": [
       "[16, 95, 82, 12, 67, 45, 84, 33, 18, 12]"
      ]
     },
     "execution_count": 11,
     "metadata": {},
     "output_type": "execute_result"
    }
   ],
   "source": [
    "ages[:10][::-1]"
   ]
  },
  {
   "cell_type": "code",
   "execution_count": 25,
   "id": "6290d897-6f6c-4266-b183-5fc9a9060714",
   "metadata": {},
   "outputs": [],
   "source": [
    "odd = [1,3,5,7,9,11,15,17,19,21]"
   ]
  },
  {
   "cell_type": "code",
   "execution_count": 26,
   "id": "13e60924-c277-49f1-bf3d-48dc2c6961bb",
   "metadata": {},
   "outputs": [],
   "source": [
    "odd.insert(6,13)"
   ]
  },
  {
   "cell_type": "code",
   "execution_count": 27,
   "id": "006e4218-1e9a-48ad-b9be-2732a9da9091",
   "metadata": {},
   "outputs": [
    {
     "data": {
      "text/plain": [
       "[1, 3, 5, 7, 9, 11, 13, 15, 17, 19, 21]"
      ]
     },
     "execution_count": 27,
     "metadata": {},
     "output_type": "execute_result"
    }
   ],
   "source": [
    "odd"
   ]
  },
  {
   "cell_type": "markdown",
   "id": "67f30fee-99dc-41ee-828b-a4848203b74f",
   "metadata": {},
   "source": [
    "## strings"
   ]
  },
  {
   "cell_type": "code",
   "execution_count": 33,
   "id": "5cc9e5ce-e98b-453b-9766-54371572fca8",
   "metadata": {},
   "outputs": [
    {
     "data": {
      "text/plain": [
       "'olleH'"
      ]
     },
     "execution_count": 33,
     "metadata": {},
     "output_type": "execute_result"
    }
   ],
   "source": [
    "greeting = 'Hello'\n",
    "greeting[::-1]"
   ]
  },
  {
   "cell_type": "code",
   "execution_count": 36,
   "id": "4125e312-86b1-4151-9c0d-c1dd850a2c69",
   "metadata": {},
   "outputs": [
    {
     "data": {
      "text/plain": [
       "'United Kingdom Of Great Britain And Northern Ireland'"
      ]
     },
     "execution_count": 36,
     "metadata": {},
     "output_type": "execute_result"
    }
   ],
   "source": [
    "UK = 'UNITED KINGDOM OF GREAT BRITAIN AND NORTHERN IRELAND'\n",
    "UK.title()"
   ]
  },
  {
   "cell_type": "code",
   "execution_count": 37,
   "id": "3d92f8fc-3938-40f4-9440-4b86b3e5c8d4",
   "metadata": {},
   "outputs": [],
   "source": [
    "byron = 'fare thee well and if forever still forever fare thee well'"
   ]
  },
  {
   "cell_type": "code",
   "execution_count": 38,
   "id": "a86a26bd-63ca-48e8-8b83-d5adf19cff49",
   "metadata": {},
   "outputs": [
    {
     "data": {
      "text/plain": [
       "22"
      ]
     },
     "execution_count": 38,
     "metadata": {},
     "output_type": "execute_result"
    }
   ],
   "source": [
    "byron.find('forever')"
   ]
  },
  {
   "cell_type": "code",
   "execution_count": null,
   "id": "65a6d128-b8c2-4879-ad7b-c163765f870a",
   "metadata": {},
   "outputs": [],
   "source": []
  }
 ],
 "metadata": {
  "kernelspec": {
   "display_name": "Python 3 (ipykernel)",
   "language": "python",
   "name": "python3"
  },
  "language_info": {
   "codemirror_mode": {
    "name": "ipython",
    "version": 3
   },
   "file_extension": ".py",
   "mimetype": "text/x-python",
   "name": "python",
   "nbconvert_exporter": "python",
   "pygments_lexer": "ipython3",
   "version": "3.11.9"
  }
 },
 "nbformat": 4,
 "nbformat_minor": 5
}
